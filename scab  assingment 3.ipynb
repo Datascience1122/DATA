{
 "cells": [
  {
   "cell_type": "code",
   "execution_count": 5,
   "id": "1fd4bfe6",
   "metadata": {},
   "outputs": [],
   "source": [
    "import selenium\n",
    "import pandas as pd\n",
    "from selenium import webdriver\n",
    "import warnings\n",
    "warnings.filterwarnings('ignore')\n",
    "from selenium.webdriver.common.by import By\n",
    "import time\n",
    "import requests\n",
    "from selenium.common.exceptions import  NoSuchElementException"
   ]
  },
  {
   "cell_type": "code",
   "execution_count": 6,
   "id": "dc02dc8c",
   "metadata": {},
   "outputs": [],
   "source": [
    "driver=webdriver.Chrome()\n",
    "driver.get('https://www.amazon.in')"
   ]
  },
  {
   "cell_type": "markdown",
   "id": "163bd821",
   "metadata": {},
   "source": [
    "# QUESTION NO 1"
   ]
  },
  {
   "cell_type": "code",
   "execution_count": null,
   "id": "a3adeb1b",
   "metadata": {},
   "outputs": [],
   "source": [
    "product=input(\"enter item for search\")\n",
    "\n",
    "search=driver.find_element(By.XPATH,'/html/body/div[1]/div[1]/div/div[2]/form/div/div/input')\n",
    "search.send_keys(product)\n"
   ]
  },
  {
   "cell_type": "code",
   "execution_count": null,
   "id": "ddafbb84",
   "metadata": {},
   "outputs": [],
   "source": [
    "search_button=driver.find_element(By.XPATH,'/html/body/div[1]/div[1]/div/div[2]/form/input')\n",
    "search.click()"
   ]
  },
  {
   "cell_type": "markdown",
   "id": "9de9a2b4",
   "metadata": {},
   "source": [
    "# QUESTION NO 2"
   ]
  },
  {
   "cell_type": "code",
   "execution_count": null,
   "id": "86c68571",
   "metadata": {},
   "outputs": [],
   "source": [
    "Urls=[]\n",
    "for page in range(0,3):\n",
    "    url=driver.find_elements(By.XPATH,'//a[@class=\"a-link-normal s-no-outline\"]')\n",
    "    for i in url:\n",
    "        Urls.append(i.get_attribute(\"href\"))\n",
    "    \n",
    "    next_page=driver.find_element(By.XPATH,'/html/body/div[1]/div[1]/div[1]/div[1]/div/span[1]/div[1]/div[67]/div/div/span/a[3]')\n",
    "    \n",
    "    time.sleep(3)\n",
    "\n",
    "Urls"
   ]
  },
  {
   "cell_type": "code",
   "execution_count": null,
   "id": "0b5cdfc7",
   "metadata": {},
   "outputs": [],
   "source": [
    "len(Urls)"
   ]
  },
  {
   "cell_type": "code",
   "execution_count": null,
   "id": "f4cabbad",
   "metadata": {},
   "outputs": [],
   "source": [
    "v=Urls[:10]\n",
    "v"
   ]
  },
  {
   "cell_type": "code",
   "execution_count": null,
   "id": "2fb03ff1",
   "metadata": {},
   "outputs": [],
   "source": [
    "brand=[]\n",
    "product_name=[]\n",
    "price=[]\n",
    "return_exchange=[]\n",
    "expected_delivery=[]\n",
    "availability=[]\n",
    "\n",
    "\n",
    "\n",
    "for url in A:\n",
    "    driver.get(url)\n",
    "    time.sleep(2)\n",
    "    try:\n",
    "        BRAND=driver.find_element(By.XPATH,'//tr[@class=\"a-spacing-small po-brand\"]')\n",
    "        brand.append(BRAND.text)\n",
    "    except NoSuchElementExeption:\n",
    "        brand.append('_')\n",
    "        \n",
    "    try:\n",
    "        PRICE=driver.find_element(By.XPATH,'//span[@class=\"a-price-whole\"]')\n",
    "        price.append(PRICE.text)\n",
    "    except NoSuchElementExeption:\n",
    "        price.append('_')\n",
    "        \n",
    "    try:\n",
    "        RET_EXCH=driver.find_element(By.XPATH,'//div[@class=\"a-column a-span12 a-text-center icon-container scrollable-container celwidget\"]')\n",
    "        return_exchange.append(RET_EXCH.text)\n",
    "    except NoSuchElementExeption:\n",
    "        return_exchange.append('_')\n",
    "        \n",
    "    try:\n",
    "        name=driver.find_element(By.XPATH,'//span[@class=\"a-size-large product-title-word-break\"]')\n",
    "        product_name.append(name.text)\n",
    "    except NoSuchElementException:\n",
    "        product_name.append('_')\n",
    "        \n",
    "    try:\n",
    "        avail=driver.find_element(By.XPATH,'//div[@class=\"a-section a-spacing-none a-spacing-top-micro }\"]')\n",
    "        availability.append(avail.text)\n",
    "    except NoSuchElementException:\n",
    "        availability.append('_')  \n",
    "        \n",
    "    try:\n",
    "        delivery=driver.find_element(By.XPATH,'//div[@class=\"a-spacing-base\"]')\n",
    "        expected_delivery.append(delivery.text)\n",
    "    except NoSuchElementException:\n",
    "        expected_delivery.append('_')"
   ]
  },
  {
   "cell_type": "code",
   "execution_count": null,
   "id": "770a0edb",
   "metadata": {},
   "outputs": [],
   "source": [
    "brand"
   ]
  },
  {
   "cell_type": "code",
   "execution_count": null,
   "id": "2e259201",
   "metadata": {},
   "outputs": [],
   "source": [
    "product_name\n"
   ]
  },
  {
   "cell_type": "code",
   "execution_count": null,
   "id": "ffc396e6",
   "metadata": {},
   "outputs": [],
   "source": [
    "price"
   ]
  },
  {
   "cell_type": "code",
   "execution_count": null,
   "id": "291e99f8",
   "metadata": {},
   "outputs": [],
   "source": [
    "return_exchange"
   ]
  },
  {
   "cell_type": "code",
   "execution_count": null,
   "id": "749dc354",
   "metadata": {},
   "outputs": [],
   "source": [
    "expected_delivery"
   ]
  },
  {
   "cell_type": "code",
   "execution_count": null,
   "id": "99e77962",
   "metadata": {},
   "outputs": [],
   "source": [
    "availability"
   ]
  },
  {
   "cell_type": "code",
   "execution_count": null,
   "id": "b7c843e7",
   "metadata": {},
   "outputs": [],
   "source": [
    "df=pd.DataFrame({'BRAND':brand,'PRODUCT_NAME':product_name,'PRICE':price,'EXCHANGE':return_exchange,'EXPECTED_DELIVERY':expected_delivery,'AVAILABILITY':availability})\n",
    "df"
   ]
  },
  {
   "cell_type": "markdown",
   "id": "d7715f26",
   "metadata": {},
   "source": [
    "# QUESTION NO 3"
   ]
  },
  {
   "cell_type": "code",
   "execution_count": null,
   "id": "7961d648",
   "metadata": {},
   "outputs": [],
   "source": [
    "driver=webdriver.Chrome()\n",
    "driver.get('https://images.google.com/')"
   ]
  },
  {
   "cell_type": "code",
   "execution_count": null,
   "id": "5d301e6d",
   "metadata": {},
   "outputs": [],
   "source": [
    "search=driver.find_element(By.XPATH,'/html/body/div[1]/div[3]/form/div[1]/div[1]/div[1]/div/div[2]/textarea')\n",
    "search.send_keys('fruits')\n",
    "button=driver.find_element(By.XPATH,'/html/body/div[1]/div[3]/form/div[1]/div[1]/div[2]/div[4]/div[2]/div[1]/div/ul/li[2]')\n",
    "button.click()"
   ]
  },
  {
   "cell_type": "code",
   "execution_count": null,
   "id": "15e3368c",
   "metadata": {},
   "outputs": [],
   "source": [
    "IMG=[]\n",
    "images=driver.find_elements(By.XPATH,'//img[@class=\"YQ4gaf\"]')\n",
    "for image in images:\n",
    "    source=image.get_attribute('src')\n",
    "    if source is not None:\n",
    "        if (source[:4]=='http'):\n",
    "            IMG.append(source)\n",
    "for i in range(len(IMG)):\n",
    "    if i>10:\n",
    "        break \n",
    "    \n",
    "    print('Downloadind {0} of {1} images'.format(i,10))"
   ]
  },
  {
   "cell_type": "code",
   "execution_count": null,
   "id": "019793fc",
   "metadata": {},
   "outputs": [],
   "source": [
    "IMG[:10]"
   ]
  },
  {
   "cell_type": "code",
   "execution_count": null,
   "id": "091daf75",
   "metadata": {},
   "outputs": [],
   "source": [
    "response=requests.get(IMG[i])\n",
    "file=open(r\"C:\\Users\\Lenovo\\Downloads\"+str(i)+\".jpg\",\"wb\")\n",
    "file.write(response.content)"
   ]
  },
  {
   "cell_type": "markdown",
   "id": "c90346d7",
   "metadata": {},
   "source": [
    "# QUESTION NO 4"
   ]
  },
  {
   "cell_type": "code",
   "execution_count": null,
   "id": "e3cc2e40",
   "metadata": {},
   "outputs": [],
   "source": [
    "driver = webdriver.Chrome()\n",
    "url=\"https://www.flipkart.com/search?q=smartphone&otracker=search&otracker1=search&marketplace=FLIPKART&as-show=on&as=off\"\n",
    "driver.get(url)\n",
    "\n",
    "Brand_Name=[]\n",
    "Storage=[]\n",
    "PF_Camera=[]\n",
    "Display_Size=[]\n",
    "Processor=[]\n",
    "Battery=[]\n",
    "Price=[]\n",
    "\n",
    "\n",
    " \n",
    "BName=driver.find_elements(By.XPATH,\"//div[@class='_4rR01T']\")\n",
    "for i in BName:\n",
    "    if i.text is None :\n",
    "        Brand_Name.append(\"--\") \n",
    "    else:\n",
    "        Brand_Name.append(i.text)\n",
    "print(Brand_Name)\n",
    "\n",
    "\n",
    "ram=driver.find_elements(By.XPATH,\"//ul[@class='_1xgFaf']//li[1]\")\n",
    "for i in ram:\n",
    "    if i.text is None :\n",
    "        Storage.append(\"--\") \n",
    "    else:\n",
    "        Storage.append(i.text)\n",
    "print(Storage)\n",
    "\n",
    "\n",
    "PC=driver.find_elements(By.XPATH,\"//ul[@class='_1xgFaf']//li[3]\")\n",
    "for i in PC:\n",
    "    if i.text is None :\n",
    "        PF_Camera.append(\"--\") \n",
    "    else:\n",
    "        PF_Camera.append(i.text)\n",
    "print(PF_Camera)\n",
    "\n",
    "\n",
    "DS=driver.find_elements(By.XPATH,\"//ul[@class='_1xgFaf']//li[2]\")\n",
    "for i in DS:\n",
    "    if i.text is None :\n",
    "        Display_Size.append(\"--\") \n",
    "    else:\n",
    "        Display_Size.append(i.text)\n",
    "print(Display_Size)\n",
    "\n",
    "\n",
    "P=driver.find_elements(By.XPATH,\"//ul[@class='_1xgFaf']//li[5]\")\n",
    "for i in P:\n",
    "    if i.text is None :\n",
    "        Processor.append(\"--\") \n",
    "    else:\n",
    "        Processor.append(i.text)\n",
    "print(Processor)\n",
    "\n",
    "\n",
    "B=driver.find_elements(By.XPATH,\"//ul[@class='_1xgFaf']//li[4]\")\n",
    "for i in B:\n",
    "    if i.text is None :\n",
    "        Battery.append(\"--\") \n",
    "    else:\n",
    "        Battery.append(i.text)\n",
    "print(Battery)\n",
    "\n",
    "price=driver.find_elements(By.XPATH,\"//div[@class='_30jeq3 _1_WHN1']\")\n",
    "for i in price:\n",
    "    if i.text is None :\n",
    "        Price.append(\"--\") \n",
    "    else:\n",
    "        Price.append(i.text)\n",
    "print(Price)\n",
    "\n",
    "time.sleep(5)\n",
    "\n",
    "\n",
    "print(len(Brand_Name),len(Storage),len(PF_Camera),len(Display_Size),len(Processor),len(Battery),len(Price))"
   ]
  },
  {
   "cell_type": "code",
   "execution_count": null,
   "id": "0caaef44",
   "metadata": {},
   "outputs": [],
   "source": [
    "df1=pd.DataFrame({\"Brand name\":Brand_Name,\"Storage\":Storage,\"PF camera\":PF_Camera,\"Display size\":Display_Size,\"Processor\":Processor,\"Battery\":Battery,\"Price\":Price})"
   ]
  },
  {
   "cell_type": "code",
   "execution_count": null,
   "id": "1a876419",
   "metadata": {},
   "outputs": [],
   "source": [
    "df1"
   ]
  },
  {
   "cell_type": "code",
   "execution_count": null,
   "id": "ef24b4ef",
   "metadata": {},
   "outputs": [],
   "source": [
    "file=df1.to_csv('mobile')"
   ]
  },
  {
   "cell_type": "code",
   "execution_count": null,
   "id": "b217b495",
   "metadata": {},
   "outputs": [],
   "source": [
    "MOBILE=pd.read_csv('mobile')"
   ]
  },
  {
   "cell_type": "code",
   "execution_count": null,
   "id": "14120a1e",
   "metadata": {},
   "outputs": [],
   "source": [
    "MOBILE"
   ]
  },
  {
   "cell_type": "markdown",
   "id": "4e26e60e",
   "metadata": {},
   "source": [
    "# QUESTION NO 5"
   ]
  },
  {
   "cell_type": "code",
   "execution_count": null,
   "id": "aa82f312",
   "metadata": {},
   "outputs": [],
   "source": [
    "import re\n",
    "driver=webdriver.Chrome()\n",
    "driver.get('https://www.google.com/maps/')\n",
    "search=driver.find_element(By.XPATH,'/html/body/div[1]/div[3]/div[8]/div[3]/div[1]/div[1]/div/div[2]/form/input')\n",
    "search.send_keys('Gurugram')\n",
    "time.sleep(2)\n",
    "button=driver.find_element(By.XPATH,'/html/body/div[1]/div[3]/div[8]/div[3]/div[1]/div[1]/div/div[2]/div[1]/button/span')\n",
    "button.click()\n",
    "time.sleep(3)\n",
    "\n",
    "current_URL=driver.current_url\n",
    "print(current_URL)\n",
    "lat_long= re.findall(r'@(.*)data',current_URL)\n",
    "print(lat_long)"
   ]
  },
  {
   "cell_type": "code",
   "execution_count": null,
   "id": "62d8e586",
   "metadata": {},
   "outputs": [],
   "source": [
    "latitude_longitude=lat_long[0].split(\",\")\n",
    "\n",
    "latitude=latitude_longitude[0]\n",
    "longitude=latitude_longitude[1]\n",
    "print('latitude=',latitude,'longitude=',longitude)"
   ]
  },
  {
   "cell_type": "markdown",
   "id": "8c8aa7c3",
   "metadata": {},
   "source": [
    "# QUESTION NO 6"
   ]
  },
  {
   "cell_type": "code",
   "execution_count": null,
   "id": "7e0be5f5",
   "metadata": {},
   "outputs": [],
   "source": [
    "driver = webdriver.Chrome()\n",
    "driver.get(\"https://www.digit.in/top-products/best-business-laptops-india-42.html\")\n",
    "urls=[]\n",
    "url=driver.find_elements(By.XPATH,'//h3[@class=\"font130 mt0 mb10 mobilesblockdisplay \"]/a')\n",
    "for i in url:\n",
    "    urls.append(i.get_attribute('herf'))\n",
    "\n",
    "Brands=[]\n",
    "Price=[]\n",
    "\n",
    "for i in urls:\n",
    "    driver.get(i)\n",
    "    time.sleep(2)\n",
    "    try:\n",
    "        BRAND=driver.find_element(By.XPATH,'//h1[@class=\"floatleft tabletblockdisplay pr20 \"]')\n",
    "        Brands.append( BRAND.text)\n",
    "    except NoSuchElementExeption:\n",
    "        Brands.append('_')\n",
    "    \n",
    "    try:\n",
    "        price=driver.find_element(By.XPATH,'//p[@class=\"price\"]')\n",
    "        Price.append(price.text)\n",
    "    except NoSuchElementExeption:\n",
    "        Price.append('_')"
   ]
  },
  {
   "cell_type": "code",
   "execution_count": null,
   "id": "0d4303c2",
   "metadata": {},
   "outputs": [],
   "source": [
    "Brands\n",
    "Price"
   ]
  },
  {
   "cell_type": "markdown",
   "id": "ddea59fa",
   "metadata": {},
   "source": [
    "# QUESTION NO 7"
   ]
  },
  {
   "cell_type": "code",
   "execution_count": null,
   "id": "0f4be5fd",
   "metadata": {},
   "outputs": [],
   "source": [
    "driver=webdriver.Chrome()\n",
    "driver.get('https://www.forbes.com/billionaires/')\n",
    "time.sleep(3)\n",
    "Rank=[]\n",
    "Name=[]\n",
    "Net_worth=[]\n",
    "Age=[]\n",
    "Country=[]\n",
    "\n",
    "rank=driver.find_elements(By.XPATH,'//div[@class=\"LeftRail_container__9pEea TableRow_leftRailTable__x2FIq\"]//div[@class=\"TableRow_rowContainer__IC1Tv\"]//div[@class=\"TableRow_row__L-0Km\"]/div[1]')\n",
    "for i in rank:\n",
    "    Rank.append(i.text)\n",
    "    \n",
    "name=driver.find_elements(By.XPATH,'//div[@class=\"LeftRail_container__9pEea TableRow_leftRailTable__x2FIq\"]//div[@class=\"TableRow_rowContainer__IC1Tv\"]//div[@class=\"TableRow_row__L-0Km\"]/div[2]')    \n",
    "for i in name:\n",
    "    Name.append(i.text)\n",
    "    \n",
    "net_worth=driver.find_elements(By.XPATH,'//div[@class=\"LeftRail_container__9pEea TableRow_leftRailTable__x2FIq\"]//div[@class=\"TableRow_rowContainer__IC1Tv\"]//div[@class=\"TableRow_row__L-0Km\"]/div[3]')\n",
    "for i in net_worth:\n",
    "    Net_worth.append(i.text)\n",
    "    \n",
    "age=driver.find_elements(By.XPATH,'//div[@class=\"LeftRail_container__9pEea TableRow_leftRailTable__x2FIq\"]//div[@class=\"TableRow_rowContainer__IC1Tv\"]//div[@class=\"TableRow_row__L-0Km\"]/div[4]')\n",
    "for i in age:\n",
    "    Age.append(i.text)\n",
    "    \n",
    "country=driver.find_elements(By.XPATH,'//div[@class=\"LeftRail_container__9pEea TableRow_leftRailTable__x2FIq\"]//div[@class=\"TableRow_rowContainer__IC1Tv\"]//div[@class=\"TableRow_row__L-0Km\"]/div[5]')\n",
    "for i in country:\n",
    "    Country.append(i.text)                         \n",
    "                             "
   ]
  },
  {
   "cell_type": "code",
   "execution_count": null,
   "id": "d3c720bf",
   "metadata": {},
   "outputs": [],
   "source": [
    "df=pd.DataFrame({'rank':Rank,'name':Name,'age':Age,'net_worth':Net_worth,'country':Country})\n",
    "df"
   ]
  },
  {
   "cell_type": "markdown",
   "id": "8f237f2f",
   "metadata": {},
   "source": [
    "# QUESTION NO 8"
   ]
  },
  {
   "cell_type": "code",
   "execution_count": null,
   "id": "d799e5d8",
   "metadata": {},
   "outputs": [],
   "source": [
    "driver=webdriver.Chrome()\n",
    "driver.get('https://www.youtube.com/watch?v=YauMJrnqU8g')\n",
    "\n",
    "for _ in range (10):\n",
    "    driver.execute_script(\"window.scrollBy(0,200)\")\n",
    "    time.sleep(3)\n",
    "    \n",
    "comments=[]\n",
    "comment=driver.find_elements(By.XPATH,'//div[@class=\"style-scope ytd-expander\"]')\n",
    "for i in comment:\n",
    "    comments.append(i.text)"
   ]
  },
  {
   "cell_type": "code",
   "execution_count": null,
   "id": "f5afe17c",
   "metadata": {},
   "outputs": [],
   "source": [
    "comments"
   ]
  },
  {
   "cell_type": "code",
   "execution_count": null,
   "id": "a06a3213",
   "metadata": {},
   "outputs": [],
   "source": [
    "Time=[]\n",
    "time=driver.find_elements(By.XPATH,'//a[@class=\"yt-simple-endpoint style-scope yt-formatted-string\"]')\n",
    "for i in time:\n",
    "    Time.append(i.text)\n",
    "    \n",
    "Time"
   ]
  },
  {
   "cell_type": "markdown",
   "id": "bce2e43a",
   "metadata": {},
   "source": [
    "# QUESTION NO 9"
   ]
  },
  {
   "cell_type": "code",
   "execution_count": null,
   "id": "872bfe4a",
   "metadata": {},
   "outputs": [],
   "source": [
    "driver=webdriver.Chrome()\n",
    "driver.get('https://www.hostelworld.com')\n",
    "search=driver.find_element(By.XPATH,'/html/body/div[3]/div/div/div[2]/div[2]/div[2]/div/div/div/div[1]/div[1]/div/div[2]/input')\n",
    "search.send_keys('London,England')\n",
    "button=driver.find_element(By.XPATH,'/html/body/div[3]/div/div/div[2]/div[2]/div[2]/div/div/div/div[5]/button[1]')"
   ]
  },
  {
   "cell_type": "code",
   "execution_count": null,
   "id": "99ad0061",
   "metadata": {},
   "outputs": [],
   "source": [
    "NAME=[]\n",
    "name=driver.find_elements(By.XPATH,'//div[@class=\"property-name\"]/span')\n",
    "for i in name:\n",
    "    NAME.append(i.text)"
   ]
  },
  {
   "cell_type": "code",
   "execution_count": null,
   "id": "90db6826",
   "metadata": {},
   "outputs": [],
   "source": [
    "DISTANCE=[]\n",
    "dis=driver.find_elements(By.XPATH,'//span[@class=\"distance-description\"]')\n",
    "for i in dis:\n",
    "    DISTANCE.append(i.text)"
   ]
  },
  {
   "cell_type": "code",
   "execution_count": null,
   "id": "76dbee83",
   "metadata": {},
   "outputs": [],
   "source": [
    "DISTANCE"
   ]
  },
  {
   "cell_type": "code",
   "execution_count": null,
   "id": "6b09f590",
   "metadata": {},
   "outputs": [],
   "source": [
    "RATINGS=[]\n",
    "rate=driver.find_elements(By.XPATH,'//span[@class=\"number\"]')\n",
    "for i in rate:\n",
    "    RATINGS.append(i.text)"
   ]
  },
  {
   "cell_type": "code",
   "execution_count": null,
   "id": "b8a762eb",
   "metadata": {},
   "outputs": [],
   "source": [
    "RATINGS"
   ]
  },
  {
   "cell_type": "code",
   "execution_count": null,
   "id": "b1206062",
   "metadata": {},
   "outputs": [],
   "source": [
    "TOTAL_REVIEWS=[]\n",
    "review=driver.find_elements(By.XPATH,'//div[@class=\"review\"]/span')\n",
    "for i in review:\n",
    "    TOTAL_REVIEWS.append(i.text)\n",
    "    \n",
    "TOTAL_REVIEWS"
   ]
  },
  {
   "cell_type": "code",
   "execution_count": null,
   "id": "23c0d8af",
   "metadata": {},
   "outputs": [],
   "source": []
  },
  {
   "cell_type": "code",
   "execution_count": null,
   "id": "3342e1ff",
   "metadata": {},
   "outputs": [],
   "source": []
  }
 ],
 "metadata": {
  "kernelspec": {
   "display_name": "Python 3 (ipykernel)",
   "language": "python",
   "name": "python3"
  },
  "language_info": {
   "codemirror_mode": {
    "name": "ipython",
    "version": 3
   },
   "file_extension": ".py",
   "mimetype": "text/x-python",
   "name": "python",
   "nbconvert_exporter": "python",
   "pygments_lexer": "ipython3",
   "version": "3.11.4"
  }
 },
 "nbformat": 4,
 "nbformat_minor": 5
}
